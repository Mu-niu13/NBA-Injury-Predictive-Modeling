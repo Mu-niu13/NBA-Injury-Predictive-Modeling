{
 "cells": [
  {
   "cell_type": "markdown",
   "id": "9d1b49cd",
   "metadata": {},
   "source": [
    "### Prep Works"
   ]
  },
  {
   "cell_type": "code",
   "execution_count": 1,
   "id": "316fa60d",
   "metadata": {},
   "outputs": [
    {
     "name": "stderr",
     "output_type": "stream",
     "text": [
      "/Users/mu/opt/anaconda3/lib/python3.9/site-packages/pandas/core/computation/expressions.py:21: UserWarning: Pandas requires version '2.8.4' or newer of 'numexpr' (version '2.8.3' currently installed).\n",
      "  from pandas.core.computation.check import NUMEXPR_INSTALLED\n",
      "/Users/mu/opt/anaconda3/lib/python3.9/site-packages/pandas/core/arrays/masked.py:60: UserWarning: Pandas requires version '1.3.6' or newer of 'bottleneck' (version '1.3.5' currently installed).\n",
      "  from pandas.core import (\n"
     ]
    }
   ],
   "source": [
    "# import packages\n",
    "import pandas as pd\n",
    "import numpy as np\n",
    "from datetime import datetime"
   ]
  },
  {
   "cell_type": "code",
   "execution_count": 2,
   "id": "f56e42d0",
   "metadata": {},
   "outputs": [],
   "source": [
    "# Load P3 dataset\n",
    "info = pd.read_csv('../data/Athlete Information_Master.csv', encoding='ISO-8859-1')\n",
    "vertical = pd.read_csv('../data/Athlete_Vertical_Template_Master.csv', encoding='ISO-8859-1')\n",
    "r_skater = pd.read_csv('../data/Athlete Right Skater Template_Master.csv', encoding='ISO-8859-1')\n",
    "l_skater = pd.read_csv('../data/Athlete Left Skater Template_Master.csv', encoding='ISO-8859-1')\n",
    "drop = pd.read_csv('../data/Athlete Drop Jump Template_Master.csv', encoding='ISO-8859-1')\n",
    "\n",
    "# Taran Armstrong\n",
    "ta_info = pd.read_csv('../data/Taran Armstrong Athlete Info.csv', encoding='ISO-8859-1')\n",
    "ta_vertical = pd.read_csv('../data/2024040809291752_008_1_Taran Armstrong_CMJ.csv', encoding='ISO-8859-1')\n",
    "ta_rs = pd.read_csv('../data/2024040809261889_006_1_Taran Armstrong_Right Lateral CMJ.csv', encoding='ISO-8859-1')\n",
    "ta_ls = pd.read_csv('../data/2024040809252654_003_1_Taran Armstrong_Left Lateral CMJ.csv', encoding='ISO-8859-1')\n",
    "ta_drop = pd.read_csv('../data/2024040809305484_010_1_Taran Armstrong_Drop Jump.csv', encoding='ISO-8859-1')\n",
    "\n",
    "# Devin Carter\n",
    "dc_info = pd.read_csv('../data/Devin Carter Athlete Info.csv', encoding='ISO-8859-1')\n",
    "dc_vertical = pd.read_csv('../data/vertical_Devin_Carter_2024-04-08.csv', encoding='ISO-8859-1')\n",
    "dc_rs = pd.read_csv('../data/right_skater_Devin_Carter_2024-04-08.csv', encoding='ISO-8859-1')\n",
    "dc_ls = pd.read_csv('../data/left_skater_Devin_Carter_2024-04-08.csv', encoding='ISO-8859-1')\n",
    "dc_drop = pd.read_csv('../data/drop_jump_Devin_Carter_2024-04-08.csv', encoding='ISO-8859-1')\n",
    "\n",
    "# Injury Data\n",
    "transaction = pd.read_csv('../data/injury_raw.csv')"
   ]
  },
  {
   "cell_type": "code",
   "execution_count": 3,
   "id": "4bb1d59a",
   "metadata": {},
   "outputs": [],
   "source": [
    "# get NBA names\n",
    "\n",
    "# pip install nba_api\n",
    "from nba_api.stats.static import players\n",
    "\n",
    "# getting all players\n",
    "all_players = players.get_players()\n",
    "nba_names = [player['full_name'] for player in all_players]\n",
    "\n",
    "# manually adding names\n",
    "nba_names += ['EJ Liddell','Taran Armstrong','Devin Carter','Kevin McCullar']"
   ]
  },
  {
   "cell_type": "markdown",
   "id": "84c5a1fd",
   "metadata": {},
   "source": [
    "##### Injury: Add Manually Found Data from P3 File to Scraped Injury Dataset"
   ]
  },
  {
   "cell_type": "code",
   "execution_count": 4,
   "id": "f36ecf0c",
   "metadata": {},
   "outputs": [],
   "source": [
    "transaction.loc[len(transaction.index)] = ['2024-04-08', '', '', 'Taran Armstrong', 'back issue']\n",
    "transaction.loc[len(transaction.index)] = ['2024-04-08', '', '', 'Devin Carter', 'back issue']\n",
    "transaction.loc[len(transaction.index)] = ['2023-07-27', '', '', 'Alperen Sengun', 'back issue']\n",
    "transaction.loc[len(transaction.index)] = ['2023-07-28', '', '', 'EJ Liddell', 'back issue']\n",
    "transaction.loc[len(transaction.index)] = ['2023-05-15', '', '', 'Kevin McCullar', 'back issue']"
   ]
  },
  {
   "cell_type": "markdown",
   "id": "f32f9144",
   "metadata": {},
   "source": [
    "#### Include Taran Armstrong and Devin Carter & Feature Selection"
   ]
  },
  {
   "cell_type": "markdown",
   "id": "e9c9bbbf",
   "metadata": {},
   "source": [
    "##### Info"
   ]
  },
  {
   "cell_type": "code",
   "execution_count": 5,
   "id": "61673759",
   "metadata": {},
   "outputs": [],
   "source": [
    "# concat\n",
    "c_info = pd.concat([info, ta_info, dc_info])\n",
    "\n",
    "# filter out non-nba info\n",
    "nba_info = c_info[c_info['Name'].isin(nba_names)]\n",
    "\n",
    "# remove time to columns\n",
    "nba_info = nba_info.loc[:, ~nba_info.columns.str.contains('time to', case = False)]\n",
    "\n",
    "# drop columns that are majority blank\n",
    "nba_info = nba_info.dropna(thresh = len(nba_info) * 0.53, axis=1)\n",
    "\n",
    "# convert new columns\n",
    "nba_info['Body Weight Force'] = (nba_info['Body Weight Force Left'] + nba_info['Body Weight Force Right']) / nba_info['Body Weight (kg)']\n",
    "nba_info['Free Fall Force'] = (nba_info['Free Fall Force Left'] + nba_info['Free Fall Force Right']) / nba_info['Body Weight (kg)']\n",
    "nba_info['Peak Loading Force'] = (nba_info['Peak Loading Force Left'] + nba_info['Peak Loading Force Right']) / nba_info['Body Weight (kg)']\n",
    "nba_info['Peak Concentric Force'] = (nba_info['Peak Concentric Force Left'] + nba_info['Peak Concentric Force Right']) / nba_info['Body Weight (kg)']\n",
    "nba_info['Imp1 RAW'] = (nba_info['Imp1 - L RAW'] + nba_info['Imp1 - R RAW']) / 2\n",
    "nba_info['Imp2 RAW'] = (nba_info['Imp2 - L RAW'] + nba_info['Imp2 - R RAW']) / 2\n",
    "nba_info['Conc RAW'] = (nba_info['Conc - L RAW'] + nba_info['Conc - R RAW']) / 2\n",
    "nba_info['Inversion'] = (nba_info['Inversion L'] + nba_info['Inversion R']) / 2\n",
    "nba_info['Eversion'] = (nba_info['Eversion L'] + nba_info['Eversion R']) / 2\n",
    "nba_info['Translation'] = (nba_info['Translation L'] + nba_info['Translation R']) / 2\n",
    "nba_info['Trans.Velo'] = (nba_info['Trans.Velo. L'] + nba_info['Trans. Velo. R']) / 2\n",
    "\n",
    "# delete left/right columns\n",
    "nba_info = nba_info.loc[:, ~nba_info.columns.str.contains('Left|Right| L$| R$| L | R ', regex = True)]"
   ]
  },
  {
   "cell_type": "markdown",
   "id": "c6be4ae7",
   "metadata": {},
   "source": [
    "##### Vertical"
   ]
  },
  {
   "cell_type": "code",
   "execution_count": 6,
   "id": "5470193f",
   "metadata": {},
   "outputs": [],
   "source": [
    "# concat\n",
    "c_vertical = pd.concat([vertical, dc_vertical, ta_vertical])\n",
    "\n",
    "# filter out non-nba info\n",
    "nba_vertical = c_vertical[c_vertical['Name'].isin(nba_names)]\n",
    "\n",
    "# keep selective cols\n",
    "v_vars = ['Name', 'assessmentDate','totalMovementTimeRight','totalMovementTimeLeft','maxAnkleDorsiflexionAvg',\n",
    "         'maxKneeFlexionAvg', 'maxKneeExtensionVelocityAvg','maxHipFlexionAvg','deltaHipFlexionMaxFreeFallAvg',\n",
    "         'maxHipExtensionAvg','maxHipExtensionVelocityAvg']\n",
    "\n",
    "nba_vertical = nba_vertical.loc[:, v_vars]\n",
    "\n",
    "# convert new columns and drop L/R\n",
    "nba_vertical['totalMovementTime'] = (nba_vertical['totalMovementTimeRight'] + nba_vertical['totalMovementTimeLeft'])/2\n",
    "nba_vertical = nba_vertical.drop(columns = ['totalMovementTimeRight','totalMovementTimeLeft'])\n",
    "\n",
    "# abs metric\n",
    "nba_vertical[nba_vertical.columns.difference(['assessmentDate','Name'])] = nba_vertical[nba_vertical.columns.difference(['assessmentDate','Name'])].apply(abs)"
   ]
  },
  {
   "cell_type": "markdown",
   "id": "fb92b5ef",
   "metadata": {},
   "source": [
    "##### Drop"
   ]
  },
  {
   "cell_type": "code",
   "execution_count": 7,
   "id": "b1df28e0",
   "metadata": {},
   "outputs": [],
   "source": [
    "# concat\n",
    "c_drop = pd.concat([drop, dc_drop, ta_drop])\n",
    "\n",
    "# filter out non-nba info\n",
    "nba_drop = c_drop[c_drop['Name'].isin(nba_names)]\n",
    "\n",
    "# keep selective cols\n",
    "drop_vars = pd.read_csv('../data/Drop_Vars.csv', encoding='ISO-8859-1').columns.to_list()\n",
    "nba_drop = nba_drop.loc[:, drop_vars]\n",
    "\n",
    "# convert new columns and drop L/R\n",
    "nba_drop['totalMovementTime'] = (nba_drop['totalMovementTimeRight'] + nba_drop['totalMovementTimeLeft'])/2\n",
    "rotation_cols = nba_drop.loc[:, nba_drop.columns.str.contains('Rotation')].columns.to_list()\n",
    "nba_drop['RotationAverage'] = nba_drop[rotation_cols].mean(axis=1)\n",
    "\n",
    "# abs metric\n",
    "neg_vars = ['ankleTotalROMAvg','totalMovementImpulsePercentDifference','ankleActiveDecelerationAvg',\n",
    "'kneeFlexionAtT0Avg','maxKneeFlexionRight','maxKneeFlexionLeft','maxKneeFlexionAvg',\n",
    "'deltaKneeFlexionAvg','maxKneeFlexionVelocityAvg','maxKneeFlexionAccelerationAvg',\n",
    "'hipTotalROMAvg','maxHipExtensionVelocityAvg','maxHipActiveDecelerationAvg',\n",
    "'maxHipExtensionAccelerationAvg']\n",
    "nba_drop[neg_vars] = nba_drop[neg_vars].apply(abs)\n",
    "\n",
    "# Max (Ankle, Knee and Hip) Flexion Assym\n",
    "nba_drop['MaxAnkleFlexionAssym'] = abs(nba_drop['maxAnkleDorsiflexionLeft'] - nba_drop['maxAnkleDorsiflexionRight'])\n",
    "nba_drop['MaxKneeFlexionAssym'] = abs(nba_drop['maxKneeFlexionLeft'] - nba_drop['maxKneeFlexionRight'])\n",
    "nba_drop['MaxHipFlexionAssym'] = abs(nba_drop['maxHipFlexionLeft'] - nba_drop['maxHipFlexionRight'])\n",
    "\n",
    "# drop L/R\n",
    "nba_drop = nba_drop.drop(columns = ['totalMovementTimeRight','totalMovementTimeLeft', 'maxAnkleDorsiflexionLeft',\n",
    "                                   'maxAnkleDorsiflexionRight','maxKneeFlexionLeft','maxKneeFlexionRight',\n",
    "                                   'maxHipFlexionLeft', 'maxHipFlexionRight'] + rotation_cols)"
   ]
  },
  {
   "cell_type": "markdown",
   "id": "e4fd091b",
   "metadata": {},
   "source": [
    "##### LR Skater"
   ]
  },
  {
   "cell_type": "code",
   "execution_count": 8,
   "id": "ce43f4ed",
   "metadata": {},
   "outputs": [],
   "source": [
    "# concat\n",
    "c_lskater = pd.concat([l_skater, dc_ls, ta_ls])\n",
    "c_rskater = pd.concat([r_skater, dc_rs, ta_rs])\n",
    "\n",
    "# filter out non-nba info\n",
    "nba_c_lskater = c_lskater[c_lskater['Name'].isin(nba_names)]\n",
    "nba_c_rskater = c_rskater[c_rskater['Name'].isin(nba_names)]\n",
    "\n",
    "# keep selective cols\n",
    "skater_vars = pd.read_csv('../data/LRSK_Vars.csv', encoding='ISO-8859-1').columns.to_list()\n",
    "nba_c_lskater = nba_c_lskater.loc[:, skater_vars]\n",
    "nba_c_rskater = nba_c_rskater.loc[:, skater_vars]\n",
    "\n",
    "# merge into one\n",
    "nba_skater = pd.merge(nba_c_lskater, nba_c_rskater, on=['Name', 'assessmentDate'], how='inner')\n",
    "\n",
    "# convert metric\n",
    "skater_vars = nba_skater.iloc[:,2:].columns.to_list()\n",
    "nba_skater['maxLateralForce'] = (nba_skater['maxLateralForce_x'] + nba_skater['maxLateralForce_y'])/2\n",
    "nba_skater['maxKneeExtensionVelocity'] = (nba_skater['maxKneeExtensionVelocity_x'] + nba_skater['maxKneeExtensionVelocity_y'])/2\n",
    "nba_skater['maxHipFlexion'] = (nba_skater['maxHipFlexion_x'] + nba_skater['maxHipFlexion_y'])/2\n",
    "nba_skater['maxHipExtensionVelocity'] = (nba_skater['maxHipExtensionVelocity_x'] + nba_skater['maxHipExtensionVelocity_y'])/2\n",
    "nba_skater['maxHipAbduction'] = (nba_skater['maxHipAbduction_x'] + nba_skater['maxHipAbduction_y'])/2\n",
    "nba_skater['maxHipAbductionVelocity'] = (nba_skater['maxHipAbductionVelocity_x'] + nba_skater['maxHipAbductionVelocity_y'])/2\n",
    "\n",
    "# drop L/R\n",
    "nba_skater = nba_skater.drop(columns = skater_vars)\n",
    "\n",
    "# abs metric\n",
    "nba_skater[nba_skater.columns.difference(['assessmentDate','Name'])] = nba_skater[nba_skater.columns.difference(['assessmentDate','Name'])].apply(abs)"
   ]
  },
  {
   "cell_type": "markdown",
   "id": "3c226417",
   "metadata": {},
   "source": [
    "#### Merge All P3 Datasets on NBA Players"
   ]
  },
  {
   "cell_type": "code",
   "execution_count": 9,
   "id": "0d5893eb",
   "metadata": {},
   "outputs": [
    {
     "data": {
      "text/plain": [
       "(672, 69)"
      ]
     },
     "execution_count": 9,
     "metadata": {},
     "output_type": "execute_result"
    }
   ],
   "source": [
    "from functools import reduce\n",
    "\n",
    "dataframes = [nba_info, nba_vertical, nba_skater, nba_drop]\n",
    "p3 = reduce(lambda left, right: pd.merge(left, right, on=['Name', 'assessmentDate'], how='inner'), dataframes)\n",
    "\n",
    "p3.shape"
   ]
  },
  {
   "cell_type": "markdown",
   "id": "fdc0661e",
   "metadata": {},
   "source": [
    "###### Skater: Divide Lateral Force by mass in kg"
   ]
  },
  {
   "cell_type": "code",
   "execution_count": 11,
   "id": "3f6ef672",
   "metadata": {
    "scrolled": true
   },
   "outputs": [],
   "source": [
    "p3['maxLateralForce/kg'] = p3['maxLateralForce'] / p3['Body Weight (kg)']\n",
    "p3_nba = p3.drop(columns = ['maxLateralForce'])"
   ]
  },
  {
   "cell_type": "markdown",
   "id": "60addff9",
   "metadata": {},
   "source": [
    "### Data Cleaning"
   ]
  },
  {
   "cell_type": "markdown",
   "id": "2b79fe13",
   "metadata": {},
   "source": [
    "#### 1. Filter injury data on players assessed by P3"
   ]
  },
  {
   "cell_type": "code",
   "execution_count": 12,
   "id": "7eb62767",
   "metadata": {},
   "outputs": [],
   "source": [
    "p3_transaction = transaction[transaction['Relinquished'].isin(p3_nba.Name.unique().tolist())]"
   ]
  },
  {
   "cell_type": "markdown",
   "id": "45769efb",
   "metadata": {},
   "source": [
    "#### 2. Filter out data on 'recovering', 'rest', 'returned' and 'surgery'"
   ]
  },
  {
   "cell_type": "code",
   "execution_count": 13,
   "id": "cdd3d2bf",
   "metadata": {},
   "outputs": [],
   "source": [
    "irrelevant1 = r'recovering|rest|surgery|returned'\n",
    "p3_transaction = p3_transaction[~p3_transaction.Notes.str.contains(irrelevant1, \n",
    "                                                                   regex=True, \n",
    "                                                                   case=False)]"
   ]
  },
  {
   "cell_type": "markdown",
   "id": "c736d058",
   "metadata": {},
   "source": [
    "#### 3. Filter out injury data on non-interested body parts"
   ]
  },
  {
   "cell_type": "code",
   "execution_count": 14,
   "id": "23ab14fc",
   "metadata": {},
   "outputs": [
    {
     "name": "stderr",
     "output_type": "stream",
     "text": [
      "/var/folders/g5/329m32hd5210n5yybqk5znnr0000gn/T/ipykernel_87830/3285160514.py:3: UserWarning: This pattern is interpreted as a regular expression, and has match groups. To actually get the groups, use str.extract.\n",
      "  p3_transaction_lower = p3_transaction[~p3_transaction.Notes.str.contains(irrelevant2,\n"
     ]
    },
    {
     "data": {
      "text/plain": [
       "(1403, 3)"
      ]
     },
     "execution_count": 14,
     "metadata": {},
     "output_type": "execute_result"
    }
   ],
   "source": [
    "irrelevant2 = r'\\b(ill|illness|flu|shoulder|finger|abdominal|forearm|rib|ribs|gastroenteritis|head|pelvic|reaction|food|orbital|spine|mononucleosis|gasroenteritis|neck|COVID-19|lat|arm|oblique|protocols|collarbone|appendicitis|nausea|health|conditioning|various|breath|headache|forehead|blood|thoracic|rotator cuff|general|core|cervical|personal|throat|concussion|wrist|appendectomy|elbow|tailbone|hand|viral|thumb|facial|jaw|pubis|virus|hernia|cold|respiratory|eye|mouth|dental|chest|nerve|unspecified|nose|abdomen|fine|pectoral|bicep|fined|undisclosed|lung)\\b'\n",
    "\n",
    "p3_transaction_lower = p3_transaction[~p3_transaction.Notes.str.contains(irrelevant2, \n",
    "                                                                         regex=True, \n",
    "                                                                         case=False)]\n",
    "\n",
    "irrelevant3 = [' DNP', ' inflammation (DNP)', ' DNP (out for season)', ' DTD']\n",
    "p3_transaction_lower = p3_transaction_lower[~(p3_transaction_lower['Notes'].isin(irrelevant3))]\n",
    "\n",
    "# drop columns: Team and Acquired\n",
    "p3_transaction_lower = p3_transaction_lower.drop(columns = ['Team', 'Acquired'])\n",
    "p3_transaction_lower.shape"
   ]
  },
  {
   "cell_type": "markdown",
   "id": "a2c663f8",
   "metadata": {},
   "source": [
    "#### 4. Filter out Injury Data before 2015"
   ]
  },
  {
   "cell_type": "code",
   "execution_count": 15,
   "id": "8e2ab70a",
   "metadata": {},
   "outputs": [],
   "source": [
    "p3_transaction_lower = p3_transaction_lower[p3_transaction_lower['Date'] >= '2015-01-01']"
   ]
  },
  {
   "cell_type": "markdown",
   "id": "bd07ed01",
   "metadata": {},
   "source": [
    "#### 5. Filter out Non-Serious Sore/Stiff/Tight\n",
    "\n",
    "**Logic**: Only keep the data on sore/stiff/tight if it continues for a week\n",
    "- NBA teams usually play 3 games a week, a soreness/stiffness/tightness is considered seriours if a player is listed out in 3 consecutive games for the same reason)"
   ]
  },
  {
   "cell_type": "code",
   "execution_count": 16,
   "id": "34676b55",
   "metadata": {},
   "outputs": [
    {
     "data": {
      "text/plain": [
       "22630    None\n",
       "22631    None\n",
       "22645    None\n",
       "22724    None\n",
       "22726    None\n",
       "         ... \n",
       "30935    None\n",
       "30936    None\n",
       "30937    None\n",
       "30938    None\n",
       "30939    None\n",
       "Length: 899, dtype: object"
      ]
     },
     "execution_count": 16,
     "metadata": {},
     "output_type": "execute_result"
    }
   ],
   "source": [
    "# convert Date column to comparable format\n",
    "p3_transaction_lower['Date'] = pd.to_datetime(p3_transaction_lower['Date'], format='%Y-%m-%d')\n",
    "\n",
    "# define real soreness identifier function\n",
    "def real_sore_identifier(row):\n",
    "    if any(keyword in row['Notes'] for keyword in ['stiff','tight','sore','tightness','stiffness','soreness']):\n",
    "        start_date = row['Date']\n",
    "        end_date = row['Date'] + pd.Timedelta(days=7)\n",
    "        same_injury = p3_transaction_lower[\n",
    "            (p3_transaction_lower['Relinquished'] == row['Relinquished']) &\n",
    "            (p3_transaction_lower['Date'] >= start_date) & \n",
    "            (p3_transaction_lower['Date'] <= end_date) & \n",
    "            (p3_transaction_lower['Notes'] == row['Notes'])\n",
    "        ]\n",
    "        if len(same_injury) < 3:\n",
    "            p3_transaction_lower.drop(p3_transaction_lower[\n",
    "                (p3_transaction_lower.Date == row['Date'] ) &\n",
    "                (p3_transaction_lower.Relinquished == row['Relinquished']) &\n",
    "                (p3_transaction_lower.Notes == row['Notes'])].index, inplace = True)\n",
    "\n",
    "# apply the function\n",
    "p3_transaction_lower.apply(lambda row: real_sore_identifier(row), axis=1) # "
   ]
  },
  {
   "cell_type": "markdown",
   "id": "a856422e",
   "metadata": {},
   "source": [
    "#### 7. Brief Summary on Data Size"
   ]
  },
  {
   "cell_type": "code",
   "execution_count": 17,
   "id": "4ecce785",
   "metadata": {
    "scrolled": true,
    "tags": [
     "hide-input"
    ]
   },
   "outputs": [
    {
     "data": {
      "text/html": [
       "<div>\n",
       "<style scoped>\n",
       "    .dataframe tbody tr th:only-of-type {\n",
       "        vertical-align: middle;\n",
       "    }\n",
       "\n",
       "    .dataframe tbody tr th {\n",
       "        vertical-align: top;\n",
       "    }\n",
       "\n",
       "    .dataframe thead th {\n",
       "        text-align: right;\n",
       "    }\n",
       "</style>\n",
       "<table border=\"1\" class=\"dataframe\">\n",
       "  <thead>\n",
       "    <tr style=\"text-align: right;\">\n",
       "      <th></th>\n",
       "      <th>0</th>\n",
       "    </tr>\n",
       "  </thead>\n",
       "  <tbody>\n",
       "    <tr>\n",
       "      <th>Ankle</th>\n",
       "      <td>171</td>\n",
       "    </tr>\n",
       "    <tr>\n",
       "      <th>Knee</th>\n",
       "      <td>116</td>\n",
       "    </tr>\n",
       "    <tr>\n",
       "      <th>Back</th>\n",
       "      <td>56</td>\n",
       "    </tr>\n",
       "    <tr>\n",
       "      <th>Hamstring</th>\n",
       "      <td>42</td>\n",
       "    </tr>\n",
       "    <tr>\n",
       "      <th>Hip</th>\n",
       "      <td>35</td>\n",
       "    </tr>\n",
       "    <tr>\n",
       "      <th>Foot</th>\n",
       "      <td>35</td>\n",
       "    </tr>\n",
       "    <tr>\n",
       "      <th>Toe</th>\n",
       "      <td>28</td>\n",
       "    </tr>\n",
       "    <tr>\n",
       "      <th>Calf</th>\n",
       "      <td>27</td>\n",
       "    </tr>\n",
       "    <tr>\n",
       "      <th>Quadriceps</th>\n",
       "      <td>24</td>\n",
       "    </tr>\n",
       "    <tr>\n",
       "      <th>Achilles</th>\n",
       "      <td>18</td>\n",
       "    </tr>\n",
       "    <tr>\n",
       "      <th>Groin</th>\n",
       "      <td>16</td>\n",
       "    </tr>\n",
       "    <tr>\n",
       "      <th>Leg(unspecified)</th>\n",
       "      <td>15</td>\n",
       "    </tr>\n",
       "    <tr>\n",
       "      <th>Heel</th>\n",
       "      <td>13</td>\n",
       "    </tr>\n",
       "    <tr>\n",
       "      <th>Thigh</th>\n",
       "      <td>8</td>\n",
       "    </tr>\n",
       "    <tr>\n",
       "      <th>adductor</th>\n",
       "      <td>3</td>\n",
       "    </tr>\n",
       "    <tr>\n",
       "      <th>Shin</th>\n",
       "      <td>3</td>\n",
       "    </tr>\n",
       "    <tr>\n",
       "      <th>Tibia</th>\n",
       "      <td>2</td>\n",
       "    </tr>\n",
       "    <tr>\n",
       "      <th>Gluteus</th>\n",
       "      <td>1</td>\n",
       "    </tr>\n",
       "    <tr>\n",
       "      <th>abductor</th>\n",
       "      <td>1</td>\n",
       "    </tr>\n",
       "    <tr>\n",
       "      <th>Plantar Fasciaitis</th>\n",
       "      <td>0</td>\n",
       "    </tr>\n",
       "  </tbody>\n",
       "</table>\n",
       "</div>"
      ],
      "text/plain": [
       "                      0\n",
       "Ankle               171\n",
       "Knee                116\n",
       "Back                 56\n",
       "Hamstring            42\n",
       "Hip                  35\n",
       "Foot                 35\n",
       "Toe                  28\n",
       "Calf                 27\n",
       "Quadriceps           24\n",
       "Achilles             18\n",
       "Groin                16\n",
       "Leg(unspecified)     15\n",
       "Heel                 13\n",
       "Thigh                 8\n",
       "adductor              3\n",
       "Shin                  3\n",
       "Tibia                 2\n",
       "Gluteus               1\n",
       "abductor              1\n",
       "Plantar Fasciaitis    0"
      ]
     },
     "metadata": {},
     "output_type": "display_data"
    },
    {
     "data": {
      "image/png": "[encoded data removed]",
      "text/plain": [
       "<Figure size 2000x600 with 1 Axes>"
      ]
     },
     "metadata": {},
     "output_type": "display_data"
    }
   ],
   "source": [
    "import matplotlib.pyplot as plt\n",
    "import seaborn as sns\n",
    "\n",
    "raw_data = p3_transaction_lower\n",
    "\n",
    "# Filtering data based on keywords in the 'Notes' column\n",
    "injury_categories = {\n",
    "    'Ankle': raw_data[raw_data['Notes'].str.contains('ankle', case=False, na=False)],\n",
    "    'Knee': raw_data[raw_data['Notes'].str.contains('knee', case=False, na=False)],\n",
    "    'Back': raw_data[raw_data['Notes'].str.contains('lower back|lumbar|back', case=False, regex=True)],\n",
    "    'Achilles': raw_data[raw_data['Notes'].str.contains('Achilles', case=False, na=False)],\n",
    "    'Hip': raw_data[raw_data['Notes'].str.contains('hip', case=False, na=False)],\n",
    "    'Quadriceps': raw_data[raw_data['Notes'].str.contains('quad', case=False, na=False)],\n",
    "    'Hamstring': raw_data[raw_data['Notes'].str.contains('hamstring', case=False, na=False)],\n",
    "    'Calf': raw_data[raw_data['Notes'].str.contains('calf', case=False, na=False)],\n",
    "    'Foot': raw_data[raw_data['Notes'].str.contains('foot', case=False, na=False)],\n",
    "    'Plantar Fasciaitis': raw_data[raw_data['Notes'].str.contains('fasciaitis', case=False, na=False)],\n",
    "    'Groin': raw_data[raw_data['Notes'].str.contains('groin', case=False, na=False)],\n",
    "    'Thigh': raw_data[raw_data['Notes'].str.contains('Thigh', case=False, na=False)],\n",
    "    'Toe': raw_data[raw_data['Notes'].str.contains('toe', case=False, na=False)],\n",
    "    'Heel': raw_data[raw_data['Notes'].str.contains('heel', case=False, na=False)],\n",
    "    'Tibia': raw_data[raw_data['Notes'].str.contains('tibia', case=False, na=False)],\n",
    "    'Leg(unspecified)': raw_data[raw_data['Notes'].str.contains('leg', case=False, na=False)],\n",
    "    'Gluteus': raw_data[raw_data['Notes'].str.contains('gluteus', case=False, na=False)],\n",
    "    'adductor': raw_data[raw_data['Notes'].str.contains('adductor', case=False, na=False)],\n",
    "    'abductor': raw_data[raw_data['Notes'].str.contains('abductor', case=False, na=False)],\n",
    "    'Shin': raw_data[raw_data['Notes'].str.contains('shin', case=False, na=False)],\n",
    "}\n",
    "\n",
    "# Count of each category for histogram\n",
    "injury_counts = {category: len(data) for category, data in injury_categories.items()}\n",
    "injury_counts = dict(sorted(injury_counts.items(), key=lambda item: item[1], reverse = True))\n",
    "\n",
    "# Plotting the histogram\n",
    "plt.figure(figsize=(20, 6))\n",
    "plt.bar(injury_counts.keys(), injury_counts.values(), color='skyblue')\n",
    "plt.title('Histogram of Injury Counts by Type')\n",
    "plt.xlabel('Injury Type')\n",
    "plt.ylabel('Number of Injuries')\n",
    "plt.grid(True)\n",
    "plt.tight_layout()\n",
    "display(pd.DataFrame.from_dict(injury_counts, orient='index'))"
   ]
  },
  {
   "cell_type": "markdown",
   "id": "d07c7f41",
   "metadata": {},
   "source": [
    "#### 6. Clean Merged P3 Data: If multiple assessment data per year, keep the one that is closest to season tipoff"
   ]
  },
  {
   "cell_type": "code",
   "execution_count": 21,
   "id": "247a85fa",
   "metadata": {},
   "outputs": [],
   "source": [
    "# convert assessmentDate to datetime object\n",
    "p3_nba['assessmentDate'] = pd.to_datetime(p3_nba['assessmentDate'], format='%m/%d/%Y')\n",
    "\n",
    "# Group by 'Name' and 'Year' and then transform to get the row with date closest to October 24(season tipoff) of that year\n",
    "p3_nba['Year'] = p3_nba['assessmentDate'].dt.year\n",
    "p3_nba['DateDiff'] = np.minimum(\n",
    "    (p3_nba['assessmentDate'] - pd.to_datetime(p3_nba['Year'].astype(str) + '-10-24')).abs(),\n",
    "    (p3_nba['assessmentDate'] - pd.to_datetime((p3_nba['Year'] - 1).astype(str) + '-10-24')).abs())\n",
    "\n",
    "p3_nba_sorted = p3_nba.sort_values(['Name', 'Year', 'DateDiff'], ascending=[True, True, True])\n",
    "\n",
    "# keep the assessment data that is closest to the season tipoff\n",
    "p3 = p3_nba_sorted.drop_duplicates(subset=['Name', 'Year'], keep='first')\n",
    "\n",
    "# Drop the Year and DateDiff columns\n",
    "p3 = p3.drop(columns=['Year', 'DateDiff'])"
   ]
  },
  {
   "cell_type": "markdown",
   "id": "ebc2f743",
   "metadata": {},
   "source": [
    "#### 7. Combine Datasets: Scraped Injury Data and P3 data\n",
    "\n",
    "#### Logic\n",
    "\n",
    "1. Label Injury\n",
    "    -  For each player season: Label as injured if there is an injury within 2 years following an assessment\n",
    "\n",
    "2. Past Injuries\n",
    "    - Record the number of injury before assessment date for each athlete\n",
    "    - The new features are:\n",
    "        - Injured: the class label\n",
    "        - BackHamHistory: The number of Back and Hamstring injury before assessmentDate\n",
    "        - KneeHistory: The number of Knee injury before assessmentDate\n",
    "        - LowerLegHistory: The number of Calf, Achilles, and Ankle injury before assessmentDate\n",
    "        - UpperLegHistory: The number of Hip, Quadriceps, Adductor, and Groin injury before assessmentDate"
   ]
  },
  {
   "cell_type": "markdown",
   "id": "fbf3c57d",
   "metadata": {},
   "source": [
    "#### Back and Hamstring"
   ]
  },
  {
   "cell_type": "code",
   "execution_count": 22,
   "id": "cb554939",
   "metadata": {},
   "outputs": [
    {
     "data": {
      "text/plain": [
       "35"
      ]
     },
     "execution_count": 22,
     "metadata": {},
     "output_type": "execute_result"
    }
   ],
   "source": [
    "# define function to count the number of back/hamstring injury within 2 years following an assessment\n",
    "def count_back_hamstring(row):\n",
    "    start_date = row['assessmentDate']\n",
    "    end_date = row['assessmentDate'] + pd.Timedelta(days=365*2)\n",
    "    relevant_injuries = p3_transaction_lower[\n",
    "        (p3_transaction_lower['Relinquished'] == row['Name']) &\n",
    "        (p3_transaction_lower['Date'] >= start_date) & \n",
    "        (p3_transaction_lower['Date'] <= end_date) & \n",
    "        (p3_transaction_lower['Notes'].str.contains(r'back|hamstring',\n",
    "                                                   case = False))]\n",
    "    return len(relevant_injuries)\n",
    "\n",
    "# apply function\n",
    "p3['BackHamstringprep'] = p3.apply(lambda row: count_back_hamstring(row), axis=1)\n",
    "\n",
    "# label as injured if there is back/hamstring injury within 2 years following an assessment\n",
    "p3['Injured'] = p3['BackHamstringprep'].apply(lambda x: 1 if x > 0 else 0)\n",
    "p3 = p3.drop(columns = ['BackHamstringprep'])\n",
    "\n",
    "# count injured rows\n",
    "len(p3[p3.Injured > 0])"
   ]
  },
  {
   "cell_type": "markdown",
   "id": "d1798dae",
   "metadata": {},
   "source": [
    "#### Injury History to Features"
   ]
  },
  {
   "cell_type": "code",
   "execution_count": 23,
   "id": "94d36087",
   "metadata": {},
   "outputs": [],
   "source": [
    "# define function to count the number of past injuries\n",
    "def back_hamstring_history(row):\n",
    "    start_date = row['assessmentDate']\n",
    "    relevant_injuries = p3_transaction_lower[\n",
    "        (p3_transaction_lower['Relinquished'] == row['Name']) &\n",
    "        (p3_transaction_lower['Date'] <= start_date) & \n",
    "        (p3_transaction_lower['Notes'].str.contains(r'back|hamstring',\n",
    "                                                   case = False))]\n",
    "    return len(relevant_injuries)\n",
    "\n",
    "def knee_history(row):\n",
    "    start_date = row['assessmentDate']\n",
    "    relevant_injuries = p3_transaction_lower[\n",
    "        (p3_transaction_lower['Relinquished'] == row['Name']) &\n",
    "        (p3_transaction_lower['Date'] <= start_date) & \n",
    "        (p3_transaction_lower['Notes'].str.contains(r'knee',\n",
    "                                                   case = False))]\n",
    "    return len(relevant_injuries)\n",
    "\n",
    "def lower_leg_history(row):\n",
    "    start_date = row['assessmentDate']\n",
    "    relevant_injuries = p3_transaction_lower[\n",
    "        (p3_transaction_lower['Relinquished'] == row['Name']) &\n",
    "        (p3_transaction_lower['Date'] <= start_date) & \n",
    "        (p3_transaction_lower['Notes'].str.contains(r'calf|achilles|ankle',\n",
    "                                                   case = False))]\n",
    "    return len(relevant_injuries)\n",
    "\n",
    "def upper_leg_history(row):\n",
    "    start_date = row['assessmentDate']\n",
    "    relevant_injuries = p3_transaction_lower[\n",
    "        (p3_transaction_lower['Relinquished'] == row['Name']) &\n",
    "        (p3_transaction_lower['Date'] <= start_date) & \n",
    "        (p3_transaction_lower['Notes'].str.contains(r'hip|quadriceps|adductor|groin',\n",
    "                                                   case = False))]\n",
    "    return len(relevant_injuries)\n",
    "\n",
    "\n",
    "# apply function\n",
    "p3['BackHamHistory'] = p3.apply(lambda row: back_hamstring_history(row), axis=1)\n",
    "p3['KneeHistory'] = p3.apply(lambda row: knee_history(row), axis=1)\n",
    "p3['LowerLegHistory'] = p3.apply(lambda row: lower_leg_history(row), axis=1)\n",
    "p3['UpperLegHistory'] = p3.apply(lambda row: upper_leg_history(row), axis=1)"
   ]
  },
  {
   "cell_type": "markdown",
   "id": "3a2ad656",
   "metadata": {},
   "source": [
    "#### Filter out Assessment After 2022 May and Before 2015 if Healthy"
   ]
  },
  {
   "cell_type": "code",
   "execution_count": 24,
   "id": "0aa5a882",
   "metadata": {},
   "outputs": [],
   "source": [
    "p3 = p3[((p3.Injured == 0) & (p3.assessmentDate < pd.to_datetime('2022-05-01')) & (p3.assessmentDate > pd.to_datetime('2015-01-01')))\n",
    "        | (p3.Injured == 1)]"
   ]
  },
  {
   "cell_type": "code",
   "execution_count": 71,
   "id": "bb7aefca",
   "metadata": {},
   "outputs": [],
   "source": [
    "p3.to_csv('../data/clean_data.csv')"
   ]
  },
  {
   "cell_type": "markdown",
   "id": "9df02766",
   "metadata": {},
   "source": [
    "#### Check Missing Values"
   ]
  },
  {
   "cell_type": "code",
   "execution_count": 28,
   "id": "1547bc09",
   "metadata": {},
   "outputs": [
    {
     "data": {
      "text/plain": [
       "{'Level':               Name assessmentDate Level\n",
       " 203  Jose Alvarado     2018-09-23   NaN\n",
       " 393  Jose Alvarado     2020-09-11   NaN\n",
       " 202   Moses Wright     2018-09-17   NaN\n",
       " 388   Moses Wright     2020-08-05   NaN\n",
       " 467   Zhaire Smith     2022-02-10   NaN,\n",
       " 'Height':                     Name assessmentDate  Height\n",
       " 39          Aaron Gordon     2015-04-28     NaN\n",
       " 18            Alec Burks     2015-08-31     NaN\n",
       " 34        Andre Drummond     2015-08-04     NaN\n",
       " 32           Baron Davis     2015-04-20     NaN\n",
       " 31        Brandon Davies     2015-06-08     NaN\n",
       " 52        Brandon Ingram     2015-07-24     NaN\n",
       " 42           Danny Green     2015-08-18     NaN\n",
       " 246       Derrick Favors     2015-06-01     NaN\n",
       " 36          Festus Ezeli     2015-07-23     NaN\n",
       " 98          Festus Ezeli     2016-07-01     NaN\n",
       " 57        Frank Kaminsky     2015-06-08     NaN\n",
       " 33   Matthew Dellavedova     2015-07-15     NaN\n",
       " 99       Perry Jones III     2016-05-30     NaN\n",
       " 47           Rodney Hood     2015-09-01     NaN\n",
       " 38           Rudy Gobert     2015-06-06     NaN\n",
       " 45          Solomon Hill     2015-08-04     NaN\n",
       " 54       Stanley Johnson     2015-04-27     NaN\n",
       " 17            Trey Burke     2013-08-17     NaN\n",
       " 16            Trey Burke     2014-09-02     NaN,\n",
       " 'Body Weight Force':                     Name assessmentDate  Body Weight Force\n",
       " 39          Aaron Gordon     2015-04-28                NaN\n",
       " 116           Alec Burks     2016-10-10                NaN\n",
       " 32           Baron Davis     2015-04-20                NaN\n",
       " 31        Brandon Davies     2015-06-08                NaN\n",
       " 52        Brandon Ingram     2015-07-24                NaN\n",
       " 42           Danny Green     2015-08-18                NaN\n",
       " 36          Festus Ezeli     2015-07-23                NaN\n",
       " 33   Matthew Dellavedova     2015-07-15                NaN\n",
       " 38           Rudy Gobert     2015-06-06                NaN\n",
       " 54       Stanley Johnson     2015-04-27                NaN\n",
       " 17            Trey Burke     2013-08-17                NaN,\n",
       " 'Free Fall Force':                     Name assessmentDate  Free Fall Force\n",
       " 39          Aaron Gordon     2015-04-28              NaN\n",
       " 116           Alec Burks     2016-10-10              NaN\n",
       " 32           Baron Davis     2015-04-20              NaN\n",
       " 31        Brandon Davies     2015-06-08              NaN\n",
       " 52        Brandon Ingram     2015-07-24              NaN\n",
       " 42           Danny Green     2015-08-18              NaN\n",
       " 36          Festus Ezeli     2015-07-23              NaN\n",
       " 33   Matthew Dellavedova     2015-07-15              NaN\n",
       " 38           Rudy Gobert     2015-06-06              NaN\n",
       " 54       Stanley Johnson     2015-04-27              NaN\n",
       " 17            Trey Burke     2013-08-17              NaN,\n",
       " 'Peak Loading Force':                     Name assessmentDate  Peak Loading Force\n",
       " 39          Aaron Gordon     2015-04-28                 NaN\n",
       " 116           Alec Burks     2016-10-10                 NaN\n",
       " 32           Baron Davis     2015-04-20                 NaN\n",
       " 31        Brandon Davies     2015-06-08                 NaN\n",
       " 52        Brandon Ingram     2015-07-24                 NaN\n",
       " 42           Danny Green     2015-08-18                 NaN\n",
       " 36          Festus Ezeli     2015-07-23                 NaN\n",
       " 33   Matthew Dellavedova     2015-07-15                 NaN\n",
       " 38           Rudy Gobert     2015-06-06                 NaN\n",
       " 54       Stanley Johnson     2015-04-27                 NaN\n",
       " 17            Trey Burke     2013-08-17                 NaN,\n",
       " 'Peak Concentric Force':                     Name assessmentDate  Peak Concentric Force\n",
       " 39          Aaron Gordon     2015-04-28                    NaN\n",
       " 116           Alec Burks     2016-10-10                    NaN\n",
       " 32           Baron Davis     2015-04-20                    NaN\n",
       " 31        Brandon Davies     2015-06-08                    NaN\n",
       " 52        Brandon Ingram     2015-07-24                    NaN\n",
       " 42           Danny Green     2015-08-18                    NaN\n",
       " 36          Festus Ezeli     2015-07-23                    NaN\n",
       " 33   Matthew Dellavedova     2015-07-15                    NaN\n",
       " 38           Rudy Gobert     2015-06-06                    NaN\n",
       " 54       Stanley Johnson     2015-04-27                    NaN\n",
       " 17            Trey Burke     2013-08-17                    NaN,\n",
       " 'Imp1 RAW':                     Name assessmentDate  Imp1 RAW\n",
       " 39          Aaron Gordon     2015-04-28       NaN\n",
       " 116           Alec Burks     2016-10-10       NaN\n",
       " 32           Baron Davis     2015-04-20       NaN\n",
       " 31        Brandon Davies     2015-06-08       NaN\n",
       " 52        Brandon Ingram     2015-07-24       NaN\n",
       " 42           Danny Green     2015-08-18       NaN\n",
       " 36          Festus Ezeli     2015-07-23       NaN\n",
       " 33   Matthew Dellavedova     2015-07-15       NaN\n",
       " 38           Rudy Gobert     2015-06-06       NaN\n",
       " 54       Stanley Johnson     2015-04-27       NaN\n",
       " 17            Trey Burke     2013-08-17       NaN,\n",
       " 'Imp2 RAW':                     Name assessmentDate  Imp2 RAW\n",
       " 39          Aaron Gordon     2015-04-28       NaN\n",
       " 116           Alec Burks     2016-10-10       NaN\n",
       " 32           Baron Davis     2015-04-20       NaN\n",
       " 31        Brandon Davies     2015-06-08       NaN\n",
       " 52        Brandon Ingram     2015-07-24       NaN\n",
       " 42           Danny Green     2015-08-18       NaN\n",
       " 36          Festus Ezeli     2015-07-23       NaN\n",
       " 33   Matthew Dellavedova     2015-07-15       NaN\n",
       " 38           Rudy Gobert     2015-06-06       NaN\n",
       " 54       Stanley Johnson     2015-04-27       NaN\n",
       " 17            Trey Burke     2013-08-17       NaN,\n",
       " 'Conc RAW':                     Name assessmentDate  Conc RAW\n",
       " 39          Aaron Gordon     2015-04-28       NaN\n",
       " 116           Alec Burks     2016-10-10       NaN\n",
       " 32           Baron Davis     2015-04-20       NaN\n",
       " 31        Brandon Davies     2015-06-08       NaN\n",
       " 52        Brandon Ingram     2015-07-24       NaN\n",
       " 42           Danny Green     2015-08-18       NaN\n",
       " 36          Festus Ezeli     2015-07-23       NaN\n",
       " 33   Matthew Dellavedova     2015-07-15       NaN\n",
       " 38           Rudy Gobert     2015-06-06       NaN\n",
       " 54       Stanley Johnson     2015-04-27       NaN\n",
       " 17            Trey Burke     2013-08-17       NaN,\n",
       " 'Inversion':                     Name assessmentDate  Inversion\n",
       " 39          Aaron Gordon     2015-04-28        NaN\n",
       " 116           Alec Burks     2016-10-10        NaN\n",
       " 32           Baron Davis     2015-04-20        NaN\n",
       " 31        Brandon Davies     2015-06-08        NaN\n",
       " 52        Brandon Ingram     2015-07-24        NaN\n",
       " 42           Danny Green     2015-08-18        NaN\n",
       " 36          Festus Ezeli     2015-07-23        NaN\n",
       " 33   Matthew Dellavedova     2015-07-15        NaN\n",
       " 38           Rudy Gobert     2015-06-06        NaN\n",
       " 54       Stanley Johnson     2015-04-27        NaN\n",
       " 17            Trey Burke     2013-08-17        NaN,\n",
       " 'Eversion':                     Name assessmentDate  Eversion\n",
       " 39          Aaron Gordon     2015-04-28       NaN\n",
       " 116           Alec Burks     2016-10-10       NaN\n",
       " 32           Baron Davis     2015-04-20       NaN\n",
       " 31        Brandon Davies     2015-06-08       NaN\n",
       " 52        Brandon Ingram     2015-07-24       NaN\n",
       " 42           Danny Green     2015-08-18       NaN\n",
       " 36          Festus Ezeli     2015-07-23       NaN\n",
       " 33   Matthew Dellavedova     2015-07-15       NaN\n",
       " 38           Rudy Gobert     2015-06-06       NaN\n",
       " 54       Stanley Johnson     2015-04-27       NaN\n",
       " 17            Trey Burke     2013-08-17       NaN,\n",
       " 'Translation':                     Name assessmentDate  Translation\n",
       " 39          Aaron Gordon     2015-04-28          NaN\n",
       " 116           Alec Burks     2016-10-10          NaN\n",
       " 34        Andre Drummond     2015-08-04          NaN\n",
       " 32           Baron Davis     2015-04-20          NaN\n",
       " 31        Brandon Davies     2015-06-08          NaN\n",
       " 52        Brandon Ingram     2015-07-24          NaN\n",
       " 42           Danny Green     2015-08-18          NaN\n",
       " 36          Festus Ezeli     2015-07-23          NaN\n",
       " 33   Matthew Dellavedova     2015-07-15          NaN\n",
       " 38           Rudy Gobert     2015-06-06          NaN\n",
       " 54       Stanley Johnson     2015-04-27          NaN\n",
       " 17            Trey Burke     2013-08-17          NaN,\n",
       " 'Trans.Velo':                     Name assessmentDate  Trans.Velo\n",
       " 39          Aaron Gordon     2015-04-28         NaN\n",
       " 116           Alec Burks     2016-10-10         NaN\n",
       " 34        Andre Drummond     2015-08-04         NaN\n",
       " 32           Baron Davis     2015-04-20         NaN\n",
       " 31        Brandon Davies     2015-06-08         NaN\n",
       " 52        Brandon Ingram     2015-07-24         NaN\n",
       " 42           Danny Green     2015-08-18         NaN\n",
       " 36          Festus Ezeli     2015-07-23         NaN\n",
       " 33   Matthew Dellavedova     2015-07-15         NaN\n",
       " 38           Rudy Gobert     2015-06-06         NaN\n",
       " 54       Stanley Johnson     2015-04-27         NaN\n",
       " 17            Trey Burke     2013-08-17         NaN,\n",
       " 'deltaHipFlexionMaxFreeFallAvg':                 Name assessmentDate  deltaHipFlexionMaxFreeFallAvg\n",
       " 671     Devin Carter     2024-04-08                            NaN\n",
       " 206    Scottie Lewis     2018-10-04                            NaN\n",
       " 670  Taran Armstrong     2024-04-08                            NaN,\n",
       " 'totalMovementTime_x':                Name assessmentDate  totalMovementTime_x\n",
       " 237  Jaden Springer     2018-10-04                  NaN\n",
       " 206   Scottie Lewis     2018-10-04                  NaN,\n",
       " 'maxHipFlexionVelocityAvg':                 Name assessmentDate  maxHipFlexionVelocityAvg\n",
       " 193  Jerome Robinson     2018-07-26                       NaN\n",
       " 70       Joakim Noah     2015-09-12                       NaN\n",
       " 336        Ky Bowman     2019-05-17                       NaN\n",
       " 153    Landry Shamet     2018-06-04                       NaN,\n",
       " 'maxHipFlexionAccelerationAvg':                 Name assessmentDate  maxHipFlexionAccelerationAvg\n",
       " 96    Andre Drummond     2016-06-13                           NaN\n",
       " 193  Jerome Robinson     2018-07-26                           NaN\n",
       " 124     John Collins     2017-07-16                           NaN\n",
       " 234     John Collins     2018-11-24                           NaN\n",
       " 305      Josh Reaves     2019-06-07                           NaN\n",
       " 258    Justin Patton     2019-04-16                           NaN\n",
       " 336        Ky Bowman     2019-05-17                           NaN\n",
       " 196     Kyle Singler     2018-08-08                           NaN\n",
       " 108      Rodney Hood     2016-08-29                           NaN\n",
       " 123  Stanley Johnson     2017-05-08                           NaN\n",
       " 199  Stanley Johnson     2018-07-24                           NaN}"
      ]
     },
     "execution_count": 28,
     "metadata": {},
     "output_type": "execute_result"
    }
   ],
   "source": [
    "missing_columns = p3.columns[p3.isnull().any()]\n",
    "\n",
    "missing_data = {}\n",
    "\n",
    "for column in missing_columns:\n",
    "    # Store rows where the specific column is missing\n",
    "    missing_data[column] = p3[p3[column].isnull()].loc[:,['Name', 'assessmentDate', column]]\n",
    "    \n",
    "missing_data"
   ]
  },
  {
   "cell_type": "markdown",
   "id": "5e511271",
   "metadata": {},
   "source": [
    "#### Missing values in the clean_data dataset filled by P3 Master Database\n",
    "1. Filled NaN dataset stored as 'UCSB_Capstone_cleaned_data.csv'\n",
    "2. New Dataset:\n",
    "- Shape: 361*74\n",
    "- Injured: 32\n",
    "- Time Frame: \n",
    "    - Injured: 2015-2024\n",
    "    - Healthy: 2015-2022\n",
    "- Variable Changes:\n",
    "    - Deleted 'bodyweight force' because same as 'bodyweight kg'\n",
    "    - Made the 'RAW' columns relative to bodyweight and renamed them 'Rel's"
   ]
  }
 ],
 "metadata": {
  "celltoolbar": "原始单元格格式",
  "kernelspec": {
   "display_name": "Python 3 (ipykernel)",
   "language": "python",
   "name": "python3"
  },
  "language_info": {
   "codemirror_mode": {
    "name": "ipython",
    "version": 3
   },
   "file_extension": ".py",
   "mimetype": "text/x-python",
   "name": "python",
   "nbconvert_exporter": "python",
   "pygments_lexer": "ipython3",
   "version": "3.9.13"
  }
 },
 "nbformat": 4,
 "nbformat_minor": 5
}
