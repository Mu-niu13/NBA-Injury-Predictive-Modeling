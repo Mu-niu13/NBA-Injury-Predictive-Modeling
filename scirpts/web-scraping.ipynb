{
 "cells": [
  {
   "cell_type": "code",
   "execution_count": 1,
   "id": "42ef12f1-ccc4-4dd9-925e-49853965df42",
   "metadata": {},
   "outputs": [
    {
     "name": "stderr",
     "output_type": "stream",
     "text": [
      "/Users/mu/opt/anaconda3/lib/python3.9/site-packages/pandas/core/computation/expressions.py:21: UserWarning: Pandas requires version '2.8.4' or newer of 'numexpr' (version '2.8.3' currently installed).\n",
      "  from pandas.core.computation.check import NUMEXPR_INSTALLED\n",
      "/Users/mu/opt/anaconda3/lib/python3.9/site-packages/pandas/core/arrays/masked.py:60: UserWarning: Pandas requires version '1.3.6' or newer of 'bottleneck' (version '1.3.5' currently installed).\n",
      "  from pandas.core import (\n"
     ]
    }
   ],
   "source": [
    "import requests\n",
    "import pandas as pd\n",
    "from bs4 import BeautifulSoup"
   ]
  },
  {
   "cell_type": "code",
   "execution_count": null,
   "id": "1d72575a-ec76-45f9-8b1d-23fa538b9661",
   "metadata": {},
   "outputs": [],
   "source": [
    "# All Pages of \n",
    "# https://prosportstransactions.com/basketball/Search/SearchResults.php?Player=&Team=&BeginDate=&EndDate=&InjuriesChkBx=yes&Submit=Search\n",
    "\n",
    "# link of first page\n",
    "url = 'https://prosportstransactions.com/basketball/Search/SearchResults.php?Player=&Team=&BeginDate=&EndDate=&InjuriesChkBx=yes&Submit=Search'\n",
    "\n",
    "# set up\n",
    "page = requests.get(url)\n",
    "soup = BeautifulSoup(page.text, 'lxml')\n",
    "\n",
    "# the link table\n",
    "table = soup.find_all('table')[1]\n",
    "\n",
    "# all <a> in the table, each contains a link\n",
    "a = table.find_all('a')\n",
    "\n",
    "# first page link\n",
    "links = [url]\n",
    "\n",
    "# run for loop to gather all links(last link in a is repetitive)\n",
    "for i in a[:-1]:\n",
    "    link = 'https://prosportstransactions.com/basketball/Search/' + i.get('href')\n",
    "    links.append(link)\n",
    "\n",
    "# run for loop to build df\n",
    "for link in links:\n",
    "    if link == url:\n",
    "        page = requests.get(link)\n",
    "        soup = BeautifulSoup(page.text, 'lxml')\n",
    "        table = soup.find('table', class_ = 'datatable center')\n",
    "        headers = table.find_all('td')[0:5] # first five are the col names\n",
    "        columns = []\n",
    "        for col in headers:\n",
    "            column = col.text.replace('\\xa0', '')\n",
    "            columns.append(column)\n",
    "        injury = pd.DataFrame(columns = columns)\n",
    "        rows = table.find_all('tr')[1:]\n",
    "        for i in rows:\n",
    "            # extract all table data from each row\n",
    "            data = i.find_all('td')\n",
    "            # for each table data, convert to text format\n",
    "            row = [td.text for td in data]\n",
    "            # get index of current row in df\n",
    "            index = len(injury)\n",
    "            # set to the data in text format\n",
    "            injury.loc[index] = row\n",
    "            # fix the formatting issue of the player names\n",
    "            injury.loc[index,'Relinquished'] = injury.loc[index,'Relinquished'].replace(' • ','')\n",
    "            injury.loc[index,'Acquired'] = injury.loc[index,'Acquired'].replace(' • ','')\n",
    "    else:\n",
    "        page = requests.get(link)\n",
    "        soup = BeautifulSoup(page.text, 'lxml')\n",
    "        table = soup.find('table', class_ = 'datatable center')\n",
    "        rows = table.find_all('tr')[1:]\n",
    "        for i in rows:\n",
    "            # extract all table data from each row\n",
    "            data = i.find_all('td')\n",
    "            # for each table data, convert to text format\n",
    "            row = [td.text for td in data]\n",
    "            # get index of current row in df\n",
    "            index = len(injury)\n",
    "            # set to the data in text format\n",
    "            injury.loc[index] = row\n",
    "            # fix the formatting issue of the player names\n",
    "            injury.loc[index,'Relinquished'] = injury.loc[index,'Relinquished'].replace(' • ','')\n",
    "            injury.loc[index,'Acquired'] = injury.loc[index,'Acquired'].replace(' • ','')\n",
    "\n",
    "injury"
   ]
  },
  {
   "cell_type": "code",
   "execution_count": null,
   "id": "a5cd3aac",
   "metadata": {},
   "outputs": [],
   "source": [
    "import os\n",
    "os.system('say \"Web Scraping Completed.\"')"
   ]
  },
  {
   "cell_type": "code",
   "execution_count": null,
   "id": "f32c1d1d",
   "metadata": {},
   "outputs": [],
   "source": [
    "injury.to_csv('../data/injury_raw.csv', index=False)"
   ]
  }
 ],
 "metadata": {
  "kernelspec": {
   "display_name": "Python 3 (ipykernel)",
   "language": "python",
   "name": "python3"
  },
  "language_info": {
   "codemirror_mode": {
    "name": "ipython",
    "version": 3
   },
   "file_extension": ".py",
   "mimetype": "text/x-python",
   "name": "python",
   "nbconvert_exporter": "python",
   "pygments_lexer": "ipython3",
   "version": "3.9.13"
  }
 },
 "nbformat": 4,
 "nbformat_minor": 5
}
